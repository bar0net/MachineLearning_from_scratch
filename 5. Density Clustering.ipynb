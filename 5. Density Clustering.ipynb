{
 "cells": [
  {
   "cell_type": "markdown",
   "metadata": {},
   "source": [
    "# Clustering by density"
   ]
  },
  {
   "cell_type": "code",
   "execution_count": 1,
   "metadata": {},
   "outputs": [],
   "source": [
    "import numpy as np\n",
    "\n",
    "from support import ClusteredDataset, Colors\n",
    "\n",
    "import matplotlib.pyplot as plt\n",
    "%matplotlib inline"
   ]
  },
  {
   "cell_type": "markdown",
   "metadata": {},
   "source": [
    "A point in the dataset creates a cluster when there are at least 'min_points' within a certain 'radius'"
   ]
  },
  {
   "cell_type": "code",
   "execution_count": 2,
   "metadata": {},
   "outputs": [],
   "source": [
    "class DenseClustering:\n",
    "    def __distances(self,X,clusters,i):\n",
    "        output = []\n",
    "        for c in clusters:\n",
    "            cPoints = X[c]\n",
    "            \n",
    "            value = float('Inf')\n",
    "            for point in X[clusters[i]]:\n",
    "                dst = np.linalg.norm(cPoints-point, axis=-1).min()\n",
    "                value = min(value, dst)\n",
    "            \n",
    "            output.append( value )\n",
    "        return np.array(output)\n",
    "    \n",
    "    def FitPredict(self, X, min_points = 3, radius=0.5):\n",
    "        clusters = [[i] for i in range(X.shape[0])]\n",
    "        \n",
    "        skip = 0\n",
    "        while skip < len(clusters):\n",
    "            \n",
    "            dst = self.__distances(X,clusters,skip)\n",
    "            candidates = np.argwhere(dst < radius)[:,0]\n",
    "            \n",
    "            if len(candidates) < min_points:\n",
    "                skip += 1\n",
    "                continue\n",
    "            \n",
    "            skip = 0\n",
    "            new_cluster = []\n",
    "            candidates = reversed(sorted(candidates))\n",
    "            \n",
    "            for idx in candidates:\n",
    "                new_cluster += clusters.pop(idx)\n",
    "                \n",
    "            clusters.append(new_cluster)\n",
    "            \n",
    "        print(skip, clusters)\n",
    "        \n",
    "        labels = [-1] * X.shape[0]\n",
    "        label_id = 0\n",
    "        for c in clusters:\n",
    "            if len(c) < min_points:\n",
    "                continue\n",
    "                \n",
    "            for i in c:\n",
    "                labels[i] = label_id\n",
    "            label_id += 1\n",
    "                     \n",
    "        return np.array(labels)"
   ]
  },
  {
   "cell_type": "code",
   "execution_count": 3,
   "metadata": {},
   "outputs": [],
   "source": [
    "groups = (\n",
    "    (20, [40,0]),\n",
    "    (15, [ 45,0]),\n",
    "    ( 3, [ 43,5])\n",
    ")\n",
    "\n",
    "min_points = 4\n",
    "radius = 0.5"
   ]
  },
  {
   "cell_type": "code",
   "execution_count": 4,
   "metadata": {},
   "outputs": [
    {
     "data": {
      "image/png": "[encoded data removed]",
      "text/plain": [
       "<Figure size 432x288 with 1 Axes>"
      ]
     },
     "metadata": {},
     "output_type": "display_data"
    }
   ],
   "source": [
    "X,_ = ClusteredDataset(*groups)\n",
    "\n",
    "#X = np.vstack( (GenerateSet(type_a_points, [-2,0]), generate_set(type_b_points,[2,0])) ) \n",
    "#y = np.array(([0]*type_a_points) + ([1]*type_b_points))\n",
    "plt.scatter(X[:,0], X[:,1], s=30)\n",
    "plt.show()"
   ]
  },
  {
   "cell_type": "code",
   "execution_count": 6,
   "metadata": {
    "scrolled": false
   },
   "outputs": [
    {
     "name": "stdout",
     "output_type": "stream",
     "text": [
      "6 [[35], [36], [37], [18, 17, 7, 5, 3, 16, 4, 19, 8, 6, 1, 0, 15, 13, 12, 10, 9, 2, 11, 14], [23, 22], [30, 25, 21, 20, 34, 32, 27, 26, 33, 29, 28, 24, 31]]\n"
     ]
    },
    {
     "data": {
      "image/png": "[encoded data removed]",
      "text/plain": [
       "<Figure size 432x288 with 1 Axes>"
      ]
     },
     "metadata": {},
     "output_type": "display_data"
    }
   ],
   "source": [
    "dc = DenseClustering()\n",
    "y = dc.FitPredict(X, min_points=2, radius=1)\n",
    "\n",
    "outliers = (y == -1)\n",
    "core = (y != -1)\n",
    "\n",
    "plt.scatter(X[core,0], X[core,1], s=30, c=Colors(y[core]))\n",
    "plt.scatter(X[outliers,0], X[outliers,1], s=30, marker='x', c=Colors(y[outliers]))\n",
    "plt.show()"
   ]
  },
  {
   "cell_type": "code",
   "execution_count": null,
   "metadata": {},
   "outputs": [],
   "source": []
  }
 ],
 "metadata": {
  "kernelspec": {
   "display_name": "Python 3",
   "language": "python",
   "name": "python3"
  },
  "language_info": {
   "codemirror_mode": {
    "name": "ipython",
    "version": 3
   },
   "file_extension": ".py",
   "mimetype": "text/x-python",
   "name": "python",
   "nbconvert_exporter": "python",
   "pygments_lexer": "ipython3",
   "version": "3.6.6"
  }
 },
 "nbformat": 4,
 "nbformat_minor": 2
}
